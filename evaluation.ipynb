{
 "cells": [
  {
   "cell_type": "code",
   "execution_count": null,
   "metadata": {
    "pycharm": {
     "is_executing": false
    }
   },
   "outputs": [],
   "source": [
    "import os\n",
    "from glob import glob\n",
    "\n",
    "import cv2\n",
    "import numpy as np\n",
    "from sklearn.metrics import f1_score\n",
    "from tqdm import tqdm\n",
    "\n",
    "from metrics import compute_iou\n",
    "from model import SegmentModel"
   ]
  },
  {
   "cell_type": "code",
   "execution_count": null,
   "metadata": {
    "pycharm": {
     "is_executing": false,
     "name": "#%%\n"
    }
   },
   "outputs": [],
   "source": [
    "model_path: str = \"./segment_model.h5\"\n",
    "data_path: str = \"D:/DataSet/Figaro1K/\"\n",
    "device: str = \"/gpu:0\"\n",
    "input_shape: tuple = (256, 256, 3)"
   ]
  },
  {
   "cell_type": "code",
   "execution_count": null,
   "metadata": {
    "pycharm": {
     "is_executing": false,
     "name": "#%%\n"
    }
   },
   "outputs": [],
   "source": [
    "# loading the model instance\n",
    "model = SegmentModel(\n",
    "    model_path=model_path, \n",
    "    custom_objects={},\n",
    "    input_shape=input_shape,\n",
    "    device=device\n",
    ")"
   ]
  },
  {
   "cell_type": "code",
   "execution_count": null,
   "metadata": {
    "pycharm": {
     "is_executing": false,
     "name": "#%%\n"
    }
   },
   "outputs": [],
   "source": [
    "x_data_path: list = sorted(glob(os.path.join(data_path, \"Original\", \"Testing\", \"*\")))\n",
    "y_data_path: list = sorted(glob(os.path.join(data_path, \"GT\", \"Testing\", \"*\")))\n",
    "assert len(x_data_path) == len(y_data_path)"
   ]
  },
  {
   "cell_type": "code",
   "execution_count": null,
   "metadata": {
    "pycharm": {
     "is_executing": false,
     "name": "#%%\n"
    }
   },
   "outputs": [],
   "source": [
    "n_samples: int = len(x_data_path)\n",
    "\n",
    "x_data = np.zeros((n_samples,) + input_shape, dtype=np.uint8)\n",
    "y_data = np.zeros((n_samples,) + input_shape[:2], dtype=np.uint8)\n",
    "\n",
    "for i in tqdm(range(n_samples)):\n",
    "    img = cv2.imread(x_data_path[i])[..., ::-1]\n",
    "    x_data[i] = cv2.resize(img, input_shape[:2])\n",
    "    \n",
    "    label = cv2.imread(y_data_path[i])[..., ::-1]\n",
    "    label = cv2.resize(label, input_shape[:2])\n",
    "    label[label < 128] = 0\n",
    "    label[label != 0] = 255\n",
    "    y_data[i] = cv2.cvtColor(label, cv2.COLOR_RGB2GRAY)"
   ]
  },
  {
   "cell_type": "code",
   "execution_count": null,
   "metadata": {
    "pycharm": {
     "is_executing": false,
     "name": "#%%\n"
    }
   },
   "outputs": [],
   "source": [
    "m_IoUs = []\n",
    "f1_scores = []\n",
    "for i in tqdm(range(n_samples)):\n",
    "    hair_segment = model.get_mask(x_data[i], get_hair=True)\n",
    "    hair_segment = cv2.cvtColor(hair_segment, cv2.COLOR_RGB2GRAY).squeeze()\n",
    "    \n",
    "    y_true = y_data[i] / 255\n",
    "    y_pred = hair_segment / 255\n",
    "    \n",
    "    m_IoU = compute_iou(y_pred, y_true)\n",
    "    f1 = f1_score(y_true=y_true, y_pred=y_pred, average='macro')\n",
    "    \n",
    "    m_IoUs.append(m_IoU)\n",
    "    f1_scores.append(f1)"
   ]
  },
  {
   "cell_type": "code",
   "execution_count": null,
   "metadata": {
    "pycharm": {
     "is_executing": false,
     "name": "#%%\n"
    }
   },
   "outputs": [],
   "source": [
    "final_f1_score = np.mean(np.asarray(f1_scores))\n",
    "final_m_IoU =  np.mean(np.asarray(m_IoUs))\n",
    "\n",
    "print(\"[*] F1 Score : {}\".format(final_f1_score))\n",
    "print(\"[*] mIoU     : {}\".format(final_m_IoU))"
   ]
  }
 ],
 "metadata": {
  "kernelspec": {
   "display_name": "Python 3",
   "language": "python",
   "name": "python3"
  },
  "language_info": {
   "codemirror_mode": {
    "name": "ipython",
    "version": 3
   },
   "file_extension": ".py",
   "mimetype": "text/x-python",
   "name": "python",
   "nbconvert_exporter": "python",
   "pygments_lexer": "ipython3",
   "version": "3.6.8"
  },
  "pycharm": {
   "stem_cell": {
    "cell_type": "raw",
    "metadata": {
     "collapsed": false
    },
    "source": []
   }
  }
 },
 "nbformat": 4,
 "nbformat_minor": 1
}
